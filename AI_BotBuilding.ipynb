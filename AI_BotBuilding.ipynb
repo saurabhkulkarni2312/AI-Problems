{
 "cells": [
  {
   "cell_type": "markdown",
   "metadata": {},
   "source": [
    "# AI Bot Building\n",
    "This notebook contains python codes to some of the AI Problems. These problems can be found on the Hackerrank Website\n"
   ]
  },
  {
   "cell_type": "markdown",
   "metadata": {},
   "source": [
    "## 1. Bot Saves Princess Problems\n",
    "The next two problems are basically simple versions of Target Detection and Tracking. As a bot we need to print out a set of moves to reach the target. The entire setup is on a square grid of a specified size so we'll be considering Manhattan Distances.\n"
   ]
  },
  {
   "cell_type": "code",
   "execution_count": 70,
   "metadata": {
    "collapsed": false
   },
   "outputs": [
    {
     "name": "stdout",
     "output_type": "stream",
     "text": [
      "4\n",
      "----\n",
      "---m\n",
      "----\n",
      "p---\n",
      "DOWN\n",
      "DOWN\n",
      "LEFT\n",
      "LEFT\n",
      "LEFT\n"
     ]
    }
   ],
   "source": [
    "## Bot Saves Princess 1\n",
    "\n",
    "# Print ALL moves for Mario (m) to reach the princess (p)\n",
    "\n",
    "\"\"\" \n",
    "First enter the size of the array. m = Starting Location, p = Target\n",
    "Sample Input: \n",
    "4\n",
    "----\n",
    "---m\n",
    "----\n",
    "p---\n",
    "\n",
    "Sample Output:\n",
    "DOWN\n",
    "DOWN\n",
    "LEFT\n",
    "LEFT\n",
    "LEFT\n",
    "\"\"\"\n",
    "\n",
    "def displayPathtoPrincess(n,grid):\n",
    "    \n",
    "    p_row = [i for i, elem in enumerate(grid) if 'p' in elem]\n",
    "    p_el = [elem for i, elem in enumerate(grid) if 'p' in elem]\n",
    "    p_el = str(p_el).strip('[]').strip(\"'\")\n",
    "    p_col = [p_el.index('p')]\n",
    "    p_col = [i for i, elem in enumerate(p_el) if 'p' in elem]\n",
    "    m_row = [i for i, elem in enumerate(grid) if 'm' in elem]\n",
    "    m_el = [elem for i, elem in enumerate(grid) if 'm' in elem]\n",
    "    m_el = str(m_el).strip('[]').strip(\"'\")\n",
    "    m_col = [i for i, elem in enumerate(m_el) if 'm' in elem]\n",
    "    m_col = [m_el.index('m')]\n",
    "\n",
    "    ud = int(str(map(lambda x,y: x-y, p_row,m_row)).strip('[]').strip(\"'\"))\n",
    "    lr = int(str(map(lambda x,y: x-y, p_col,m_col)).strip('[]').strip(\"'\"))\n",
    "    s_ud = ''\n",
    "    s_lr = ''\n",
    "    if(ud<0):\n",
    "        s_ud = 'UP'\n",
    "    elif(ud>0):\n",
    "        s_ud = 'DOWN'\n",
    "    if(lr<0):\n",
    "        s_lr = 'LEFT'\n",
    "    elif(lr>0):\n",
    "        s_lr = 'RIGHT'\n",
    "\n",
    "    for i in range(0,abs(ud)):\n",
    "        print s_ud\n",
    "    for i in range(0,abs(lr)):\n",
    "        print s_lr\n",
    "    \n",
    "    \n",
    "#print all the moves here\n",
    "m = input()\n",
    "\n",
    "grid = []\n",
    "for i in xrange(0, m):\n",
    "    grid.append(raw_input().strip())\n",
    "\n",
    "displayPathtoPrincess(m,grid)\n"
   ]
  },
  {
   "cell_type": "code",
   "execution_count": 3,
   "metadata": {
    "collapsed": false
   },
   "outputs": [
    {
     "name": "stdout",
     "output_type": "stream",
     "text": [
      "5\n",
      "2 3\n",
      "-----\n",
      "-----\n",
      "p--m-\n",
      "-----\n",
      "-----\n",
      "LEFT\n"
     ]
    }
   ],
   "source": [
    "## Bot Saves Princess 2\n",
    "\n",
    "# Output only the next move you take to rescue the princess. Valid moves are LEFT, RIGHT, UP or DOWN\n",
    "\n",
    "\"\"\"\n",
    "\n",
    "The first line of the input is N (<100), the size of the board (NxN). \n",
    "The second line of the input contains two space separated integers, \n",
    "which is the position of the bot.\n",
    "m = Starting Location, p = Target\n",
    "\n",
    "Sample Input\n",
    "5\n",
    "2 3\n",
    "-----\n",
    "-----\n",
    "p--m-\n",
    "-----\n",
    "-----\n",
    "\n",
    "Sample Output\n",
    "LEFT\n",
    "\"\"\"\n",
    "# Function to find next move\n",
    "def nextMove(n,r,c,grid):\n",
    "    \n",
    "    p_row = [i for i, elem in enumerate(grid) if 'p' in elem]\n",
    "    p_el = [elem for i, elem in enumerate(grid) if 'p' in elem]\n",
    "    p_el = str(p_el).strip('[]').strip(\"'\")\n",
    "    p_col = [p_el.index('p')]\n",
    "    p_col = [i for i, elem in enumerate(p_el) if 'p' in elem]  \n",
    "    m_row = [r]\n",
    "    m_col = [c]\n",
    "    \n",
    "    ud = int(str(map(lambda x,y: x-y, p_row,m_row)).strip('[]').strip(\"'\"))\n",
    "    lr = int(str(map(lambda x,y: x-y, p_col,m_col)).strip('[]').strip(\"'\"))\n",
    "    s = ''\n",
    "    if(ud<0):\n",
    "        s = 'UP'\n",
    "    elif(ud>0):\n",
    "        s = 'DOWN'\n",
    "    elif(lr<0):\n",
    "        s = 'LEFT'\n",
    "    elif(lr>0):\n",
    "        s = 'RIGHT'\n",
    "        \n",
    "    return s\n",
    "# End of Function\n",
    "\n",
    "# Main Code\n",
    "n = input()\n",
    "r,c = [int(i) for i in raw_input().strip().split()]\n",
    "grid = []\n",
    "for i in xrange(0, n):\n",
    "    grid.append(raw_input())\n",
    "\n",
    "print nextMove(n,r,c,grid)\n"
   ]
  },
  {
   "cell_type": "markdown",
   "metadata": {},
   "source": [
    "## 2. Cleaner Bot Problem\n",
    "Here we will be considering optimality of the solution to. That is, every move has a fixed cost associated with it and our main aim is to minimize the moves to reduce the cost. Out Bot will start from a single location on grid and we would want to clean multiple \"dirty\" locations in least possible moves.\n"
   ]
  },
  {
   "cell_type": "code",
   "execution_count": null,
   "metadata": {
    "collapsed": true
   },
   "outputs": [],
   "source": [
    "def next_move(posr, posc, board):\n",
    "    print \"\"\n",
    "if __name__ == \"__main__\":\n",
    "    pos = [int(i) for i in raw_input().strip().split()]\n",
    "    board = [[j for j in raw_input().strip()] for i in range(5)]\n",
    "    next_move(pos[0], pos[1], board)"
   ]
  }
 ],
 "metadata": {
  "anaconda-cloud": {},
  "kernelspec": {
   "display_name": "Python [Root]",
   "language": "python",
   "name": "Python [Root]"
  },
  "language_info": {
   "codemirror_mode": {
    "name": "ipython",
    "version": 2
   },
   "file_extension": ".py",
   "mimetype": "text/x-python",
   "name": "python",
   "nbconvert_exporter": "python",
   "pygments_lexer": "ipython2",
   "version": "2.7.12"
  }
 },
 "nbformat": 4,
 "nbformat_minor": 0
}
